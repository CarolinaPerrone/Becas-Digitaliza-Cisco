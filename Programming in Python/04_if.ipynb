{
 "cells": [
  {
   "cell_type": "code",
   "execution_count": 8,
   "metadata": {},
   "outputs": [],
   "source": [
    "# Crear un script en el que guardéis en una variable un número.\n",
    "\n",
    "num=35"
   ]
  },
  {
   "cell_type": "code",
   "execution_count": 9,
   "metadata": {},
   "outputs": [
    {
     "name": "stdout",
     "output_type": "stream",
     "text": [
      "El número guardado se encuentra entre 20 y 39: 35\n"
     ]
    }
   ],
   "source": [
    "# Controlar el tamaño del número en 4 rangos (menor de 20, entre 20 y 39, entre 40 y 59, mayor de 60).\n",
    "# En cada uno de los casos imprimir por pantalla el número que se haya introducido.\n",
    "\n",
    "if num < 20:\n",
    "    print(\"El número guardado es menor que 20: \"+str(num))\n",
    "elif num >=20 and num <=39:\n",
    "    print(\"El número guardado se encuentra entre 20 y 39: \"+str(num))\n",
    "elif num >=40 and num <=59:\n",
    "    print(\"El número guardado se encuentra entre 40 y 59: \"+str(num))\n",
    "elif num > 60:\n",
    "    print(\"El número guardado es mayor que 60: \"+str(num))\n",
    "else:\n",
    "    print(\"El número guardado es 60\") # El número 60 no estaba dentro de los rangos indicados.\n"
   ]
  },
  {
   "cell_type": "code",
   "execution_count": 3,
   "metadata": {},
   "outputs": [
    {
     "data": {
      "text/plain": [
       "int"
      ]
     },
     "execution_count": 3,
     "metadata": {},
     "output_type": "execute_result"
    }
   ],
   "source": [
    "type(num)"
   ]
  },
  {
   "cell_type": "code",
   "execution_count": null,
   "metadata": {},
   "outputs": [],
   "source": []
  }
 ],
 "metadata": {
  "kernelspec": {
   "display_name": "Python 3",
   "language": "python",
   "name": "python3"
  },
  "language_info": {
   "codemirror_mode": {
    "name": "ipython",
    "version": 3
   },
   "file_extension": ".py",
   "mimetype": "text/x-python",
   "name": "python",
   "nbconvert_exporter": "python",
   "pygments_lexer": "ipython3",
   "version": "3.7.2"
  }
 },
 "nbformat": 4,
 "nbformat_minor": 2
}
