{
 "cells": [
  {
   "cell_type": "code",
   "execution_count": 1,
   "metadata": {},
   "outputs": [],
   "source": [
    "# Crear una lista con nombres de persona e incluir, como mínimo, 5 nombres (como mínimo, uno ha de tener la vocal \"a\")\n",
    "\n",
    "nombres=[\"Carolina\",\"Jéssica\",\"Luis\",\"José\",\"Julio\"]\n"
   ]
  },
  {
   "cell_type": "code",
   "execution_count": 2,
   "metadata": {},
   "outputs": [],
   "source": [
    "# Crear una lista llamada \"selected\"\n",
    "\n",
    "selected=[]\n"
   ]
  },
  {
   "cell_type": "code",
   "execution_count": 7,
   "metadata": {},
   "outputs": [
    {
     "name": "stdout",
     "output_type": "stream",
     "text": [
      "Este nombre está en la Lista: Carolina\n",
      "Este nombre está en la Lista: Jéssica\n",
      "Este nombre está en la Lista: Luis\n",
      "Este nombre está en la Lista: José\n",
      "Este nombre está en la Lista: Julio\n"
     ]
    }
   ],
   "source": [
    "# Recorrer, mediante un for, la lista de los nombres e imprimir un texto con el nombre recorrido en dicha iteración.\n",
    "# Asimismo, si el nombre de esa iteración contiene una \"a\", añadirlo a la lista llamada \"selected\"\n",
    "\n",
    "for x in nombres:\n",
    "    print(\"Este nombre está en la Lista: \"+x)\n",
    "    if \"a\" in x:\n",
    "        selected.append(x)\n"
   ]
  },
  {
   "cell_type": "code",
   "execution_count": 8,
   "metadata": {},
   "outputs": [
    {
     "name": "stdout",
     "output_type": "stream",
     "text": [
      "['Carolina', 'Jéssica']\n"
     ]
    }
   ],
   "source": [
    "# Finalmente, imprimir por pantalla la lista \"selected\"\n",
    "\n",
    "print(selected)\n"
   ]
  },
  {
   "cell_type": "code",
   "execution_count": 9,
   "metadata": {},
   "outputs": [
    {
     "data": {
      "text/plain": [
       "['Carolina', 'Jéssica']"
      ]
     },
     "execution_count": 9,
     "metadata": {},
     "output_type": "execute_result"
    }
   ],
   "source": [
    "selected"
   ]
  },
  {
   "cell_type": "code",
   "execution_count": 10,
   "metadata": {},
   "outputs": [
    {
     "name": "stdout",
     "output_type": "stream",
     "text": [
      "['Carolina', 'Jéssica', 'Luis', 'José', 'Julio']\n"
     ]
    }
   ],
   "source": [
    "print(nombres)"
   ]
  },
  {
   "cell_type": "code",
   "execution_count": null,
   "metadata": {},
   "outputs": [],
   "source": []
  }
 ],
 "metadata": {
  "kernelspec": {
   "display_name": "Python 3",
   "language": "python",
   "name": "python3"
  },
  "language_info": {
   "codemirror_mode": {
    "name": "ipython",
    "version": 3
   },
   "file_extension": ".py",
   "mimetype": "text/x-python",
   "name": "python",
   "nbconvert_exporter": "python",
   "pygments_lexer": "ipython3",
   "version": "3.7.2"
  }
 },
 "nbformat": 4,
 "nbformat_minor": 2
}
