{
 "cells": [
  {
   "cell_type": "code",
   "execution_count": 1,
   "metadata": {},
   "outputs": [
    {
     "name": "stdout",
     "output_type": "stream",
     "text": [
      "¿Cuál es tu nombre? Robert\n"
     ]
    }
   ],
   "source": [
    "# Crear un script que pregunte por el nombre, el apellido, el teléfono, la ciudad, y la edad. \n",
    "# Cada valor ha de ser guardado en una variable diferente.\n",
    "\n",
    "nombre=input(\"¿Cuál es tu nombre? \")"
   ]
  },
  {
   "cell_type": "code",
   "execution_count": 2,
   "metadata": {},
   "outputs": [
    {
     "name": "stdout",
     "output_type": "stream",
     "text": [
      "¿Cuál es tu apellido? De Niro\n"
     ]
    }
   ],
   "source": [
    "apellido=input(\"¿Cuál es tu apellido? \")"
   ]
  },
  {
   "cell_type": "code",
   "execution_count": 3,
   "metadata": {},
   "outputs": [
    {
     "name": "stdout",
     "output_type": "stream",
     "text": [
      "¿Cuál es tu número de teléfono? 665552229\n"
     ]
    }
   ],
   "source": [
    "tel=input(\"¿Cuál es tu número de teléfono? \")"
   ]
  },
  {
   "cell_type": "code",
   "execution_count": 4,
   "metadata": {},
   "outputs": [
    {
     "name": "stdout",
     "output_type": "stream",
     "text": [
      "¿En qué ciudad vives? Nueva York\n"
     ]
    }
   ],
   "source": [
    "city=input(\"¿En qué ciudad vives? \")"
   ]
  },
  {
   "cell_type": "code",
   "execution_count": 5,
   "metadata": {},
   "outputs": [
    {
     "name": "stdout",
     "output_type": "stream",
     "text": [
      "¿Cuántos años tienes? 75\n"
     ]
    }
   ],
   "source": [
    "age=input(\"¿Cuántos años tienes? \")"
   ]
  },
  {
   "cell_type": "code",
   "execution_count": 9,
   "metadata": {},
   "outputs": [
    {
     "name": "stdout",
     "output_type": "stream",
     "text": [
      "El actor, director y productor de cine estadounidense Robert De Niro nació en Greenwich Village, Nueva York.\r\n",
      "Tiene actualmente 75 años y su número de móvil es el 665552229.\n"
     ]
    }
   ],
   "source": [
    "# Imprimir, por pantalla, toda la infomarción coleccionada en una frase que combine la información con coherencia\n",
    "# (una oración que no sólo sean los datos recogidos).\n",
    "\n",
    "print(\"El actor, director y productor de cine estadounidense \"+nombre+\" \"+apellido+\" nació en Greenwich Village, \"+city+\".\\r\\nTiene actualmente \"+age+\" años\"+\" y su número de móvil es el \"+tel+\".\")\n"
   ]
  },
  {
   "cell_type": "code",
   "execution_count": null,
   "metadata": {},
   "outputs": [],
   "source": []
  }
 ],
 "metadata": {
  "kernelspec": {
   "display_name": "Python 3",
   "language": "python",
   "name": "python3"
  },
  "language_info": {
   "codemirror_mode": {
    "name": "ipython",
    "version": 3
   },
   "file_extension": ".py",
   "mimetype": "text/x-python",
   "name": "python",
   "nbconvert_exporter": "python",
   "pygments_lexer": "ipython3",
   "version": "3.7.2"
  }
 },
 "nbformat": 4,
 "nbformat_minor": 2
}
